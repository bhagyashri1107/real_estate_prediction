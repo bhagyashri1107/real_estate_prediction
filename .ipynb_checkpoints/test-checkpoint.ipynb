{
 "cells": [
  {
   "cell_type": "code",
   "execution_count": 1,
   "id": "7729430b",
   "metadata": {},
   "outputs": [],
   "source": [
    "import numpy as np\n",
    "import pandas as pd\n",
    "import pickle\n",
    "import json"
   ]
  },
  {
   "cell_type": "code",
   "execution_count": 2,
   "id": "67fbfadd",
   "metadata": {},
   "outputs": [],
   "source": [
    "with open('artifacts/regression_model.pkl','rb') as f:\n",
    "    model = pickle.load(f)"
   ]
  },
  {
   "cell_type": "code",
   "execution_count": 3,
   "id": "1455ec60",
   "metadata": {},
   "outputs": [
    {
     "data": {
      "text/plain": [
       "LogisticRegression()"
      ]
     },
     "execution_count": 3,
     "metadata": {},
     "output_type": "execute_result"
    }
   ],
   "source": [
    "model"
   ]
  },
  {
   "cell_type": "code",
   "execution_count": 4,
   "id": "e20a2b5d",
   "metadata": {},
   "outputs": [],
   "source": [
    "array = np.zeros((1,model.n_features_in_))"
   ]
  },
  {
   "cell_type": "code",
   "execution_count": 5,
   "id": "088a4174",
   "metadata": {},
   "outputs": [
    {
     "data": {
      "text/plain": [
       "array([[0., 0., 0., 0., 0., 0., 0., 0., 0., 0., 0., 0., 0., 0., 0., 0.,\n",
       "        0., 0., 0., 0.]])"
      ]
     },
     "execution_count": 5,
     "metadata": {},
     "output_type": "execute_result"
    }
   ],
   "source": [
    "array"
   ]
  },
  {
   "cell_type": "code",
   "execution_count": 6,
   "id": "b21a972f",
   "metadata": {},
   "outputs": [
    {
     "data": {
      "text/plain": [
       "{'Column Names': ['no_of_adults',\n",
       "  'no_of_children',\n",
       "  'no_of_weekend_nights',\n",
       "  'no_of_week_nights',\n",
       "  'required_car_parking_space',\n",
       "  'room_type_reserved',\n",
       "  'lead_time',\n",
       "  'arrival_year',\n",
       "  'arrival_month',\n",
       "  'arrival_date',\n",
       "  'market_segment_type',\n",
       "  'repeated_guest',\n",
       "  'no_of_previous_cancellations',\n",
       "  'no_of_previous_bookings_not_canceled',\n",
       "  'avg_price_per_room',\n",
       "  'no_of_special_requests',\n",
       "  'type_of_meal_plan_Meal Plan 1',\n",
       "  'type_of_meal_plan_Meal Plan 2',\n",
       "  'type_of_meal_plan_Meal Plan 3',\n",
       "  'type_of_meal_plan_Not Selected'],\n",
       " 'room_type_reserved': {'Room_Type 1': 1,\n",
       "  'Room_Type 4': 4,\n",
       "  'Room_Type 6': 6,\n",
       "  'Room_Type 2': 2,\n",
       "  'Room_Type 5': 5,\n",
       "  'Room_Type 7': 7,\n",
       "  'Room_Type 3': 3},\n",
       " 'market_segment_type': {'Online': 1,\n",
       "  'Offline': 2,\n",
       "  'Corporate': 3,\n",
       "  'Complementary': 4,\n",
       "  'Aviation': 5},\n",
       " 'booking_status': {'Not_Canceled': 1, 'Canceled': 0}}"
      ]
     },
     "execution_count": 6,
     "metadata": {},
     "output_type": "execute_result"
    }
   ],
   "source": [
    "with open('artifacts/project_data.json') as f:\n",
    "    project_data = json.load(f)\n",
    "project_data"
   ]
  },
  {
   "cell_type": "code",
   "execution_count": 7,
   "id": "c491807d",
   "metadata": {},
   "outputs": [],
   "source": [
    "no_of_adults = 2\n",
    "no_of_children = 2\n",
    "no_of_weekend_nights= 2\n",
    "required_car_parking_space=2\n",
    "room_type_reserved= 'Room_Type 4'\n",
    "market_segment_type= 'Online'\n",
    "no_of_previous_cancellations= 0\n",
    "no_of_special_requests= 0\n",
    "type_of_meal_plan= 'Meal Plan 1'\n",
    "no_of_week_nights=2\n",
    "lead_time= 200              \n",
    "arrival_year=2017          \n",
    "arrival_month=11                   \n",
    "arrival_date=28\n",
    "repeated_guest=0\n",
    "avg_price_per_room=100\n",
    "no_of_previous_bookings_not_canceled=0"
   ]
  },
  {
   "cell_type": "code",
   "execution_count": 8,
   "id": "8abfb313",
   "metadata": {},
   "outputs": [
    {
     "data": {
      "text/plain": [
       "array(['no_of_adults', 'no_of_children', 'no_of_weekend_nights',\n",
       "       'no_of_week_nights', 'required_car_parking_space',\n",
       "       'room_type_reserved', 'lead_time', 'arrival_year', 'arrival_month',\n",
       "       'arrival_date', 'market_segment_type', 'repeated_guest',\n",
       "       'no_of_previous_cancellations',\n",
       "       'no_of_previous_bookings_not_canceled', 'avg_price_per_room',\n",
       "       'no_of_special_requests', 'type_of_meal_plan_Meal Plan 1',\n",
       "       'type_of_meal_plan_Meal Plan 2', 'type_of_meal_plan_Meal Plan 3',\n",
       "       'type_of_meal_plan_Not Selected'], dtype=object)"
      ]
     },
     "execution_count": 8,
     "metadata": {},
     "output_type": "execute_result"
    }
   ],
   "source": [
    "model.feature_names_in_"
   ]
  },
  {
   "cell_type": "code",
   "execution_count": 9,
   "id": "2bd80b32",
   "metadata": {},
   "outputs": [
    {
     "name": "stdout",
     "output_type": "stream",
     "text": [
      "Meal Plan 1\n"
     ]
    }
   ],
   "source": [
    "array[0][0] = no_of_adults\n",
    "array[0][1] = no_of_children\n",
    "array[0][2] = no_of_weekend_nights\n",
    "array[0][3] =  no_of_week_nights\n",
    "array[0][4] = required_car_parking_space\n",
    "array[0][5] = project_data['room_type_reserved'][room_type_reserved]\n",
    "array[0][6] =  lead_time\n",
    "array[0][7] =  arrival_year\n",
    "array[0][8] =  arrival_month\n",
    "array[0][9] =  arrival_date\n",
    "array[0][10] = project_data['market_segment_type'][market_segment_type]\n",
    "array[0][11] =  repeated_guest\n",
    "array[0][12] = no_of_previous_cancellations\n",
    "array[0][13] =  no_of_previous_bookings_not_canceled\n",
    "array[0][14] =  avg_price_per_room\n",
    "array[0][15] =  no_of_special_requests\n",
    "print(type_of_meal_plan)\n",
    "type_of_meal_plan= 'type_of_meal_plan_' + type_of_meal_plan\n",
    "index = project_data['Column Names'].index(type_of_meal_plan)\n",
    "array[0][index] = 1"
   ]
  },
  {
   "cell_type": "code",
   "execution_count": 10,
   "id": "e5e545cb",
   "metadata": {},
   "outputs": [
    {
     "data": {
      "text/plain": [
       "array([[2.000e+00, 2.000e+00, 2.000e+00, 2.000e+00, 2.000e+00, 4.000e+00,\n",
       "        2.000e+02, 2.017e+03, 1.100e+01, 2.800e+01, 1.000e+00, 0.000e+00,\n",
       "        0.000e+00, 0.000e+00, 1.000e+02, 0.000e+00, 1.000e+00, 0.000e+00,\n",
       "        0.000e+00, 0.000e+00]])"
      ]
     },
     "execution_count": 10,
     "metadata": {},
     "output_type": "execute_result"
    }
   ],
   "source": [
    "array"
   ]
  },
  {
   "cell_type": "code",
   "execution_count": 11,
   "id": "ff440918",
   "metadata": {},
   "outputs": [],
   "source": [
    "test_df = pd.DataFrame(array,columns=model.feature_names_in_)"
   ]
  },
  {
   "cell_type": "code",
   "execution_count": 12,
   "id": "aac46146",
   "metadata": {},
   "outputs": [
    {
     "data": {
      "text/html": [
       "<div>\n",
       "<style scoped>\n",
       "    .dataframe tbody tr th:only-of-type {\n",
       "        vertical-align: middle;\n",
       "    }\n",
       "\n",
       "    .dataframe tbody tr th {\n",
       "        vertical-align: top;\n",
       "    }\n",
       "\n",
       "    .dataframe thead th {\n",
       "        text-align: right;\n",
       "    }\n",
       "</style>\n",
       "<table border=\"1\" class=\"dataframe\">\n",
       "  <thead>\n",
       "    <tr style=\"text-align: right;\">\n",
       "      <th></th>\n",
       "      <th>no_of_adults</th>\n",
       "      <th>no_of_children</th>\n",
       "      <th>no_of_weekend_nights</th>\n",
       "      <th>no_of_week_nights</th>\n",
       "      <th>required_car_parking_space</th>\n",
       "      <th>room_type_reserved</th>\n",
       "      <th>lead_time</th>\n",
       "      <th>arrival_year</th>\n",
       "      <th>arrival_month</th>\n",
       "      <th>arrival_date</th>\n",
       "      <th>market_segment_type</th>\n",
       "      <th>repeated_guest</th>\n",
       "      <th>no_of_previous_cancellations</th>\n",
       "      <th>no_of_previous_bookings_not_canceled</th>\n",
       "      <th>avg_price_per_room</th>\n",
       "      <th>no_of_special_requests</th>\n",
       "      <th>type_of_meal_plan_Meal Plan 1</th>\n",
       "      <th>type_of_meal_plan_Meal Plan 2</th>\n",
       "      <th>type_of_meal_plan_Meal Plan 3</th>\n",
       "      <th>type_of_meal_plan_Not Selected</th>\n",
       "    </tr>\n",
       "  </thead>\n",
       "  <tbody>\n",
       "    <tr>\n",
       "      <th>0</th>\n",
       "      <td>2.0</td>\n",
       "      <td>2.0</td>\n",
       "      <td>2.0</td>\n",
       "      <td>2.0</td>\n",
       "      <td>2.0</td>\n",
       "      <td>4.0</td>\n",
       "      <td>200.0</td>\n",
       "      <td>2017.0</td>\n",
       "      <td>11.0</td>\n",
       "      <td>28.0</td>\n",
       "      <td>1.0</td>\n",
       "      <td>0.0</td>\n",
       "      <td>0.0</td>\n",
       "      <td>0.0</td>\n",
       "      <td>100.0</td>\n",
       "      <td>0.0</td>\n",
       "      <td>1.0</td>\n",
       "      <td>0.0</td>\n",
       "      <td>0.0</td>\n",
       "      <td>0.0</td>\n",
       "    </tr>\n",
       "  </tbody>\n",
       "</table>\n",
       "</div>"
      ],
      "text/plain": [
       "   no_of_adults  no_of_children  no_of_weekend_nights  no_of_week_nights  \\\n",
       "0           2.0             2.0                   2.0                2.0   \n",
       "\n",
       "   required_car_parking_space  room_type_reserved  lead_time  arrival_year  \\\n",
       "0                         2.0                 4.0      200.0        2017.0   \n",
       "\n",
       "   arrival_month  arrival_date  market_segment_type  repeated_guest  \\\n",
       "0           11.0          28.0                  1.0             0.0   \n",
       "\n",
       "   no_of_previous_cancellations  no_of_previous_bookings_not_canceled  \\\n",
       "0                           0.0                                   0.0   \n",
       "\n",
       "   avg_price_per_room  no_of_special_requests  type_of_meal_plan_Meal Plan 1  \\\n",
       "0               100.0                     0.0                            1.0   \n",
       "\n",
       "   type_of_meal_plan_Meal Plan 2  type_of_meal_plan_Meal Plan 3  \\\n",
       "0                            0.0                            0.0   \n",
       "\n",
       "   type_of_meal_plan_Not Selected  \n",
       "0                             0.0  "
      ]
     },
     "execution_count": 12,
     "metadata": {},
     "output_type": "execute_result"
    }
   ],
   "source": [
    "test_df"
   ]
  },
  {
   "cell_type": "code",
   "execution_count": 13,
   "id": "b6083767",
   "metadata": {},
   "outputs": [
    {
     "data": {
      "text/plain": [
       "1"
      ]
     },
     "execution_count": 13,
     "metadata": {},
     "output_type": "execute_result"
    }
   ],
   "source": [
    "model.predict(test_df)[0]"
   ]
  },
  {
   "cell_type": "code",
   "execution_count": null,
   "id": "3e2d0e1f",
   "metadata": {},
   "outputs": [],
   "source": []
  }
 ],
 "metadata": {
  "kernelspec": {
   "display_name": "Python 3",
   "language": "python",
   "name": "python3"
  },
  "language_info": {
   "codemirror_mode": {
    "name": "ipython",
    "version": 3
   },
   "file_extension": ".py",
   "mimetype": "text/x-python",
   "name": "python",
   "nbconvert_exporter": "python",
   "pygments_lexer": "ipython3",
   "version": "3.10.7 (tags/v3.10.7:6cc6b13, Sep  5 2022, 14:08:36) [MSC v.1933 64 bit (AMD64)]"
  },
  "vscode": {
   "interpreter": {
    "hash": "a7efa30004a4d7d054d8ee1b199b1b752e8cd7680e2960fb319165366947e500"
   }
  }
 },
 "nbformat": 4,
 "nbformat_minor": 5
}
