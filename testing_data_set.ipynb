{
 "cells": [
  {
   "cell_type": "code",
   "execution_count": 1,
   "id": "24595e76",
   "metadata": {},
   "outputs": [],
   "source": [
    "import numpy as np\n",
    "import pandas as pd\n",
    "import pickle\n",
    "import json"
   ]
  },
  {
   "cell_type": "code",
   "execution_count": 2,
   "id": "2796a986",
   "metadata": {},
   "outputs": [],
   "source": [
    "with open(\"linear_reg.pkl\",'rb') as f:\n",
    "    model = pickle.load(f)"
   ]
  },
  {
   "cell_type": "code",
   "execution_count": 3,
   "id": "328c2724",
   "metadata": {},
   "outputs": [
    {
     "data": {
      "text/plain": [
       "array([[0., 0., 0., 0., 0., 0., 0.]])"
      ]
     },
     "execution_count": 3,
     "metadata": {},
     "output_type": "execute_result"
    }
   ],
   "source": [
    "array = np.zeros((1,model.n_features_in_))\n",
    "array"
   ]
  },
  {
   "cell_type": "code",
   "execution_count": 4,
   "id": "8ee26ec0",
   "metadata": {},
   "outputs": [],
   "source": [
    "with open('artifacts/project_data.json') as f:\n",
    "    project_data = json.load(f)\n",
    "# project_data"
   ]
  },
  {
   "cell_type": "code",
   "execution_count": 5,
   "id": "0b208941",
   "metadata": {},
   "outputs": [],
   "source": [
    "No=121\n",
    "X1_transaction_date=23\n",
    "X2_house_age=23.22\n",
    "X3_distance_to_the_nearest_MRT_station=23.45\n",
    "X4_number_of_convenience_stores=12.23\n",
    "X5_latitude=12.3\n",
    "X6_longitude=15.6\n",
    "Y_house_price_of_unit_area=123.1"
   ]
  },
  {
   "cell_type": "code",
   "execution_count": 6,
   "id": "695a3a21",
   "metadata": {},
   "outputs": [
    {
     "data": {
      "text/plain": [
       "array(['No', 'X1_transaction_date', 'X2_house_age',\n",
       "       'X3_distance_to_the_nearest_MRT_station',\n",
       "       'X4_number_of_convenience_stores', 'X5_latitude', 'X6_longitude'],\n",
       "      dtype=object)"
      ]
     },
     "execution_count": 6,
     "metadata": {},
     "output_type": "execute_result"
    }
   ],
   "source": [
    "model.feature_names_in_"
   ]
  },
  {
   "cell_type": "code",
   "execution_count": 7,
   "id": "d8632205",
   "metadata": {},
   "outputs": [
    {
     "name": "stdout",
     "output_type": "stream",
     "text": [
      "123.1\n"
     ]
    }
   ],
   "source": [
    "array[0][0]=No\n",
    "array[0][1]=X1_transaction_date\n",
    "array[0][2]=X2_house_age\n",
    "array[0][3]=X3_distance_to_the_nearest_MRT_station\n",
    "array[0][4]=X4_number_of_convenience_stores\n",
    "array[0][5]=X5_latitude\n",
    "array[0][6]=X6_longitude\n",
    "print(Y_house_price_of_unit_area)"
   ]
  },
  {
   "cell_type": "code",
   "execution_count": 8,
   "id": "e31e6c46",
   "metadata": {},
   "outputs": [],
   "source": [
    "test_df = pd.DataFrame(array,columns=model.feature_names_in_)"
   ]
  },
  {
   "cell_type": "code",
   "execution_count": 9,
   "id": "6bde05cc",
   "metadata": {},
   "outputs": [
    {
     "data": {
      "text/html": [
       "<div>\n",
       "<style scoped>\n",
       "    .dataframe tbody tr th:only-of-type {\n",
       "        vertical-align: middle;\n",
       "    }\n",
       "\n",
       "    .dataframe tbody tr th {\n",
       "        vertical-align: top;\n",
       "    }\n",
       "\n",
       "    .dataframe thead th {\n",
       "        text-align: right;\n",
       "    }\n",
       "</style>\n",
       "<table border=\"1\" class=\"dataframe\">\n",
       "  <thead>\n",
       "    <tr style=\"text-align: right;\">\n",
       "      <th></th>\n",
       "      <th>No</th>\n",
       "      <th>X1_transaction_date</th>\n",
       "      <th>X2_house_age</th>\n",
       "      <th>X3_distance_to_the_nearest_MRT_station</th>\n",
       "      <th>X4_number_of_convenience_stores</th>\n",
       "      <th>X5_latitude</th>\n",
       "      <th>X6_longitude</th>\n",
       "    </tr>\n",
       "  </thead>\n",
       "  <tbody>\n",
       "    <tr>\n",
       "      <th>0</th>\n",
       "      <td>121.0</td>\n",
       "      <td>23.0</td>\n",
       "      <td>23.22</td>\n",
       "      <td>23.45</td>\n",
       "      <td>12.23</td>\n",
       "      <td>12.3</td>\n",
       "      <td>15.6</td>\n",
       "    </tr>\n",
       "  </tbody>\n",
       "</table>\n",
       "</div>"
      ],
      "text/plain": [
       "      No  X1_transaction_date  X2_house_age  \\\n",
       "0  121.0                 23.0         23.22   \n",
       "\n",
       "   X3_distance_to_the_nearest_MRT_station  X4_number_of_convenience_stores  \\\n",
       "0                                   23.45                            12.23   \n",
       "\n",
       "   X5_latitude  X6_longitude  \n",
       "0         12.3          15.6  "
      ]
     },
     "execution_count": 9,
     "metadata": {},
     "output_type": "execute_result"
    }
   ],
   "source": [
    "test_df"
   ]
  },
  {
   "cell_type": "code",
   "execution_count": 10,
   "id": "d46ce267",
   "metadata": {},
   "outputs": [
    {
     "data": {
      "text/plain": [
       "array([[121.  ,  23.  ,  23.22,  23.45,  12.23,  12.3 ,  15.6 ]])"
      ]
     },
     "execution_count": 10,
     "metadata": {},
     "output_type": "execute_result"
    }
   ],
   "source": [
    "array"
   ]
  },
  {
   "cell_type": "code",
   "execution_count": null,
   "id": "cd7cf379",
   "metadata": {},
   "outputs": [],
   "source": []
  }
 ],
 "metadata": {
  "kernelspec": {
   "display_name": "Python 3 (ipykernel)",
   "language": "python",
   "name": "python3"
  },
  "language_info": {
   "codemirror_mode": {
    "name": "ipython",
    "version": 3
   },
   "file_extension": ".py",
   "mimetype": "text/x-python",
   "name": "python",
   "nbconvert_exporter": "python",
   "pygments_lexer": "ipython3",
   "version": "3.9.12"
  },
  "vscode": {
   "interpreter": {
    "hash": "324af51a151243fed8fa51e273422b1d9a0b88a7e896cbe6738ebe73464eaac1"
   }
  }
 },
 "nbformat": 4,
 "nbformat_minor": 5
}
